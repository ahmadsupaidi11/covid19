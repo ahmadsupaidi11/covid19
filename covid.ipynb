{
 "cells": [
  {
   "cell_type": "code",
   "execution_count": 37,
   "metadata": {},
   "outputs": [],
   "source": [
    "import pandas as pd\n",
    "import matplotlib.pyplot as plt\n",
    "import numpy as np\n",
    "import matplotlib.dates as dates\n",
    "import requests"
   ]
  },
  {
   "cell_type": "code",
   "execution_count": 38,
   "metadata": {},
   "outputs": [
    {
     "name": "stdout",
     "output_type": "stream",
     "text": [
      "{'Server': 'nginx', 'Date': 'Sun, 25 Dec 2022 04:01:05 GMT', 'Content-Type': 'application/json', 'Transfer-Encoding': 'chunked', 'Connection': 'keep-alive', 'Vary': 'Accept-Encoding, Accept-Encoding', 'Last-Modified': 'Sun, 25 Dec 2022 04:00:41 GMT', 'ETag': 'W/\"63a7cae9-60d7c\"', 'X-Content-Type-Options': 'nosniff, nosniff', 'X-XSS-Protection': '1; mode=block, 1; mode=block', 'Strict-Transport-Security': 'max-age=31536000; includeSubDomains; preload', 'Content-Encoding': 'gzip'}\n"
     ]
    }
   ],
   "source": [
    "resp_jabar = requests.get('https://data.covid19.go.id/public/api/prov_detail_JAWA_BARAT.json')\n",
    "resp = requests.get('https://data.covid19.go.id/public/api/update.json')\n",
    "print(resp.headers)"
   ]
  },
  {
   "cell_type": "code",
   "execution_count": 39,
   "metadata": {},
   "outputs": [],
   "source": [
    "covid_19 = resp.json()"
   ]
  },
  {
   "cell_type": "code",
   "execution_count": 40,
   "metadata": {},
   "outputs": [
    {
     "name": "stdout",
     "output_type": "stream",
     "text": [
      "Length of cov_id_raw: 2.\n",
      "komponen  cov_id_raw: dict_keys(['data', 'update']).\n"
     ]
    }
   ],
   "source": [
    "print('Length of cov_id_raw: %d.' %len(covid_19))\n",
    "print('komponen  cov_id_raw: %s.' %covid_19.keys())\n",
    "covid19_update = covid_19['update']"
   ]
  },
  {
   "cell_type": "code",
   "execution_count": 41,
   "metadata": {},
   "outputs": [
    {
     "name": "stdout",
     "output_type": "stream",
     "text": [
      "tanggal pembaharuan dan penambahan kasus 2022-12-18\n",
      "jumlah penduduk sembuh 2035\n",
      "jumlah pendidik meninggah 14\n",
      "kasus positif saat ini 6709597\n",
      "jumlah total kasus meninggal 160398\n"
     ]
    }
   ],
   "source": [
    "print('tanggal pembaharuan dan penambahan kasus', covid19_update['penambahan']['tanggal'])\n",
    "print('jumlah penduduk sembuh', covid19_update['penambahan']['jumlah_sembuh'])\n",
    "print('jumlah pendidik meninggah', covid19_update['penambahan']['jumlah_meninggal'])\n",
    "print('kasus positif saat ini', covid19_update['total']['jumlah_positif'])\n",
    "print('jumlah total kasus meninggal', covid19_update['total']['jumlah_meninggal'])"
   ]
  },
  {
   "cell_type": "code",
   "execution_count": 42,
   "metadata": {},
   "outputs": [
    {
     "name": "stdout",
     "output_type": "stream",
     "text": [
      "nama-nama elemen utama \n",
      " dict_keys(['last_date', 'provinsi', 'kasus_total', 'kasus_tanpa_tgl', 'kasus_dengan_tgl', 'meninggal_persen', 'meninggal_tanpa_tgl', 'meninggal_dengan_tgl', 'sembuh_persen', 'sembuh_tanpa_tgl', 'sembuh_dengan_tgl', 'list_perkembangan', 'data'])\n",
      "jumlah total kasus covid-19 di jawabarat: 944335\n",
      "persentase data keamtian covid-19 di jawabarat: 1.363393.2%\n",
      "persentasi tingkat kesembuhan dari covid 98.089132.2%\n"
     ]
    }
   ],
   "source": [
    "cov_jabar = resp_jabar.json()\n",
    "print('nama-nama elemen utama \\n', cov_jabar.keys())\n",
    "print('jumlah total kasus covid-19 di jawabarat: %d' %cov_jabar['kasus_total'])\n",
    "print('persentase data keamtian covid-19 di jawabarat: %f.2%%' %cov_jabar['meninggal_persen'])\n",
    "print('persentasi tingkat kesembuhan dari covid %f.2%%' %cov_jabar['sembuh_persen'])"
   ]
  },
  {
   "cell_type": "code",
   "execution_count": 43,
   "metadata": {},
   "outputs": [
    {
     "name": "stdout",
     "output_type": "stream",
     "text": [
      "<class 'pandas.core.frame.DataFrame'>\n",
      "RangeIndex: 942 entries, 0 to 941\n",
      "Data columns (total 9 columns):\n",
      " #   Column                        Non-Null Count  Dtype\n",
      "---  ------                        --------------  -----\n",
      " 0   tanggal                       942 non-null    int64\n",
      " 1   KASUS                         942 non-null    int64\n",
      " 2   MENINGGAL                     942 non-null    int64\n",
      " 3   SEMBUH                        942 non-null    int64\n",
      " 4   DIRAWAT_OR_ISOLASI            942 non-null    int64\n",
      " 5   AKUMULASI_KASUS               942 non-null    int64\n",
      " 6   AKUMULASI_SEMBUH              942 non-null    int64\n",
      " 7   AKUMULASI_MENINGGAL           942 non-null    int64\n",
      " 8   AKUMULASI_DIRAWAT_OR_ISOLASI  942 non-null    int64\n",
      "dtypes: int64(9)\n",
      "memory usage: 66.4 KB\n",
      "info covid_19\n",
      " None\n",
      "         tanggal  KASUS  MENINGGAL  SEMBUH  DIRAWAT_OR_ISOLASI  \\\n",
      "0  1583193600000      1          0       0                   1   \n",
      "1  1583280000000      0          0       0                   0   \n",
      "2  1583366400000      1          0       0                   1   \n",
      "3  1583452800000      0          0       0                   0   \n",
      "4  1583539200000      0          0       0                   0   \n",
      "\n",
      "   AKUMULASI_KASUS  AKUMULASI_SEMBUH  AKUMULASI_MENINGGAL  \\\n",
      "0                1                 0                    0   \n",
      "1                1                 0                    0   \n",
      "2                2                 0                    0   \n",
      "3                2                 0                    0   \n",
      "4                2                 0                    0   \n",
      "\n",
      "   AKUMULASI_DIRAWAT_OR_ISOLASI  \n",
      "0                             1  \n",
      "1                             1  \n",
      "2                             2  \n",
      "3                             2  \n",
      "4                             2  \n"
     ]
    }
   ],
   "source": [
    "cov_jabar = pd.DataFrame(cov_jabar['list_perkembangan'])\n",
    "print('info covid_19\\n', cov_jabar.info())\n",
    "print(cov_jabar.head())"
   ]
  },
  {
   "cell_type": "code",
   "execution_count": null,
   "metadata": {},
   "outputs": [],
   "source": [
    "cov_jabar_tidy = (cov_jabar.drop(columns=[item for item in cov_jabar.columns\n",
    "                                          if item.startswith('AKUMULASI')\n",
    "                                          or item.startswith('dirawat')])\n",
    "                    .rename(columns=str.lower)\n",
    "                    .rename(columns={'kasus':'kasus_baru'})\n",
    "                  )\n",
    "cov_jabar_tidy['tanggal'] = pd.to_datetime(cov_jabar_tidy['tanggal']*1e6, unit='ns')\n",
    "print(cov_jabar_tidy.head())"
   ]
  }
 ],
 "metadata": {
  "kernelspec": {
   "display_name": "Python 3",
   "language": "python",
   "name": "python3"
  },
  "language_info": {
   "codemirror_mode": {
    "name": "ipython",
    "version": 3
   },
   "file_extension": ".py",
   "mimetype": "text/x-python",
   "name": "python",
   "nbconvert_exporter": "python",
   "pygments_lexer": "ipython3",
   "version": "3.10.6"
  },
  "orig_nbformat": 4,
  "vscode": {
   "interpreter": {
    "hash": "0cad00d5a13a3f60cb6d0dee52753d434f6ef86636012a882082aa2fea66afa5"
   }
  }
 },
 "nbformat": 4,
 "nbformat_minor": 2
}
